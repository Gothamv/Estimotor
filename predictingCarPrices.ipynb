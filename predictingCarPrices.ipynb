{
  "nbformat": 4,
  "nbformat_minor": 0,
  "metadata": {
    "kernelspec": {
      "name": "python3",
      "display_name": "Python 3",
      "language": "python"
    },
    "language_info": {
      "name": "python",
      "version": "3.7.6",
      "mimetype": "text/x-python",
      "codemirror_mode": {
        "name": "ipython",
        "version": 3
      },
      "pygments_lexer": "ipython3",
      "nbconvert_exporter": "python",
      "file_extension": ".py"
    },
    "colab": {
      "name": "predictingCarPrices (1).ipynb",
      "provenance": []
    }
  },
  "cells": [
    {
      "cell_type": "markdown",
      "metadata": {
        "id": "o6o0KJHB-XG5",
        "colab_type": "text"
      },
      "source": [
        "# Predicting Used Car Prices"
      ]
    },
    {
      "cell_type": "code",
      "metadata": {
        "_uuid": "8f2839f25d086af736a60e9eeb907d3b93b6e0e5",
        "_cell_guid": "b1076dfc-b9ad-4769-8c92-a6c4dae69d19",
        "trusted": true,
        "id": "n5WpRS2X-XG6",
        "colab_type": "code",
        "colab": {}
      },
      "source": [
        "import numpy as np \n",
        "import pandas as pd\n",
        "import seaborn as sns\n",
        "import matplotlib.pyplot as plt"
      ],
      "execution_count": null,
      "outputs": []
    },
    {
      "cell_type": "markdown",
      "metadata": {
        "id": "DbDjuuJg-XHA",
        "colab_type": "text"
      },
      "source": [
        "### Importing libraries"
      ]
    },
    {
      "cell_type": "code",
      "metadata": {
        "_uuid": "d629ff2d2480ee46fbb7e2d37f6b5fab8052498a",
        "_cell_guid": "79c7e3d0-c299-4dcb-8224-4455121ee9b0",
        "trusted": true,
        "id": "lmdPEil7-XHA",
        "colab_type": "code",
        "colab": {}
      },
      "source": [
        "import numpy as np\n",
        "import pandas as pd"
      ],
      "execution_count": null,
      "outputs": []
    },
    {
      "cell_type": "markdown",
      "metadata": {
        "id": "ttYXIzzx-XHD",
        "colab_type": "text"
      },
      "source": [
        "### Fetching Datasets"
      ]
    },
    {
      "cell_type": "code",
      "metadata": {
        "trusted": true,
        "id": "EWmCl0ye-XHE",
        "colab_type": "code",
        "colab": {}
      },
      "source": [
        "train = pd.read_csv(\"Data_Train.csv\")\n",
        "test = pd.read_csv(\"Data_Test.csv\")"
      ],
      "execution_count": null,
      "outputs": []
    },
    {
      "cell_type": "markdown",
      "metadata": {
        "id": "8_JMrMcB-XHH",
        "colab_type": "text"
      },
      "source": [
        "## Data Exploration"
      ]
    },
    {
      "cell_type": "code",
      "metadata": {
        "trusted": true,
        "id": "fabKvtO3-XHI",
        "colab_type": "code",
        "colab": {},
        "outputId": "fe723885-ae25-4268-c1c0-669032642e49"
      },
      "source": [
        "train.head()"
      ],
      "execution_count": null,
      "outputs": [
        {
          "output_type": "execute_result",
          "data": {
            "text/plain": [
              "                               Name    Location  Year  Kilometers_Driven  \\\n",
              "0            Maruti Wagon R LXI CNG      Mumbai  2010              72000   \n",
              "1  Hyundai Creta 1.6 CRDi SX Option        Pune  2015              41000   \n",
              "2                      Honda Jazz V     Chennai  2011              46000   \n",
              "3                 Maruti Ertiga VDI     Chennai  2012              87000   \n",
              "4   Audi A4 New 2.0 TDI Multitronic  Coimbatore  2013              40670   \n",
              "\n",
              "  Fuel_Type Transmission Owner_Type     Mileage   Engine      Power  Seats  \\\n",
              "0       CNG       Manual      First  26.6 km/kg   998 CC  58.16 bhp    5.0   \n",
              "1    Diesel       Manual      First  19.67 kmpl  1582 CC  126.2 bhp    5.0   \n",
              "2    Petrol       Manual      First   18.2 kmpl  1199 CC   88.7 bhp    5.0   \n",
              "3    Diesel       Manual      First  20.77 kmpl  1248 CC  88.76 bhp    7.0   \n",
              "4    Diesel    Automatic     Second   15.2 kmpl  1968 CC  140.8 bhp    5.0   \n",
              "\n",
              "   Price  \n",
              "0   1.75  \n",
              "1  12.50  \n",
              "2   4.50  \n",
              "3   6.00  \n",
              "4  17.74  "
            ],
            "text/html": [
              "<div>\n",
              "<style scoped>\n",
              "    .dataframe tbody tr th:only-of-type {\n",
              "        vertical-align: middle;\n",
              "    }\n",
              "\n",
              "    .dataframe tbody tr th {\n",
              "        vertical-align: top;\n",
              "    }\n",
              "\n",
              "    .dataframe thead th {\n",
              "        text-align: right;\n",
              "    }\n",
              "</style>\n",
              "<table border=\"1\" class=\"dataframe\">\n",
              "  <thead>\n",
              "    <tr style=\"text-align: right;\">\n",
              "      <th></th>\n",
              "      <th>Name</th>\n",
              "      <th>Location</th>\n",
              "      <th>Year</th>\n",
              "      <th>Kilometers_Driven</th>\n",
              "      <th>Fuel_Type</th>\n",
              "      <th>Transmission</th>\n",
              "      <th>Owner_Type</th>\n",
              "      <th>Mileage</th>\n",
              "      <th>Engine</th>\n",
              "      <th>Power</th>\n",
              "      <th>Seats</th>\n",
              "      <th>Price</th>\n",
              "    </tr>\n",
              "  </thead>\n",
              "  <tbody>\n",
              "    <tr>\n",
              "      <th>0</th>\n",
              "      <td>Maruti Wagon R LXI CNG</td>\n",
              "      <td>Mumbai</td>\n",
              "      <td>2010</td>\n",
              "      <td>72000</td>\n",
              "      <td>CNG</td>\n",
              "      <td>Manual</td>\n",
              "      <td>First</td>\n",
              "      <td>26.6 km/kg</td>\n",
              "      <td>998 CC</td>\n",
              "      <td>58.16 bhp</td>\n",
              "      <td>5.0</td>\n",
              "      <td>1.75</td>\n",
              "    </tr>\n",
              "    <tr>\n",
              "      <th>1</th>\n",
              "      <td>Hyundai Creta 1.6 CRDi SX Option</td>\n",
              "      <td>Pune</td>\n",
              "      <td>2015</td>\n",
              "      <td>41000</td>\n",
              "      <td>Diesel</td>\n",
              "      <td>Manual</td>\n",
              "      <td>First</td>\n",
              "      <td>19.67 kmpl</td>\n",
              "      <td>1582 CC</td>\n",
              "      <td>126.2 bhp</td>\n",
              "      <td>5.0</td>\n",
              "      <td>12.50</td>\n",
              "    </tr>\n",
              "    <tr>\n",
              "      <th>2</th>\n",
              "      <td>Honda Jazz V</td>\n",
              "      <td>Chennai</td>\n",
              "      <td>2011</td>\n",
              "      <td>46000</td>\n",
              "      <td>Petrol</td>\n",
              "      <td>Manual</td>\n",
              "      <td>First</td>\n",
              "      <td>18.2 kmpl</td>\n",
              "      <td>1199 CC</td>\n",
              "      <td>88.7 bhp</td>\n",
              "      <td>5.0</td>\n",
              "      <td>4.50</td>\n",
              "    </tr>\n",
              "    <tr>\n",
              "      <th>3</th>\n",
              "      <td>Maruti Ertiga VDI</td>\n",
              "      <td>Chennai</td>\n",
              "      <td>2012</td>\n",
              "      <td>87000</td>\n",
              "      <td>Diesel</td>\n",
              "      <td>Manual</td>\n",
              "      <td>First</td>\n",
              "      <td>20.77 kmpl</td>\n",
              "      <td>1248 CC</td>\n",
              "      <td>88.76 bhp</td>\n",
              "      <td>7.0</td>\n",
              "      <td>6.00</td>\n",
              "    </tr>\n",
              "    <tr>\n",
              "      <th>4</th>\n",
              "      <td>Audi A4 New 2.0 TDI Multitronic</td>\n",
              "      <td>Coimbatore</td>\n",
              "      <td>2013</td>\n",
              "      <td>40670</td>\n",
              "      <td>Diesel</td>\n",
              "      <td>Automatic</td>\n",
              "      <td>Second</td>\n",
              "      <td>15.2 kmpl</td>\n",
              "      <td>1968 CC</td>\n",
              "      <td>140.8 bhp</td>\n",
              "      <td>5.0</td>\n",
              "      <td>17.74</td>\n",
              "    </tr>\n",
              "  </tbody>\n",
              "</table>\n",
              "</div>"
            ]
          },
          "metadata": {
            "tags": []
          },
          "execution_count": 168
        }
      ]
    },
    {
      "cell_type": "code",
      "metadata": {
        "trusted": true,
        "id": "oKsJxCXk-XHL",
        "colab_type": "code",
        "colab": {},
        "outputId": "7eb3ee67-7758-4f51-f9cf-a2327bbe2079"
      },
      "source": [
        "train.shape"
      ],
      "execution_count": null,
      "outputs": [
        {
          "output_type": "execute_result",
          "data": {
            "text/plain": [
              "(6019, 12)"
            ]
          },
          "metadata": {
            "tags": []
          },
          "execution_count": 169
        }
      ]
    },
    {
      "cell_type": "code",
      "metadata": {
        "trusted": true,
        "id": "7Pyvebxk-XHO",
        "colab_type": "code",
        "colab": {},
        "outputId": "46141d27-7520-4b03-f64a-8adf623e9c00"
      },
      "source": [
        "train.info()"
      ],
      "execution_count": null,
      "outputs": [
        {
          "output_type": "stream",
          "text": [
            "<class 'pandas.core.frame.DataFrame'>\n",
            "RangeIndex: 6019 entries, 0 to 6018\n",
            "Data columns (total 12 columns):\n",
            " #   Column             Non-Null Count  Dtype  \n",
            "---  ------             --------------  -----  \n",
            " 0   Name               6019 non-null   object \n",
            " 1   Location           6019 non-null   object \n",
            " 2   Year               6019 non-null   int64  \n",
            " 3   Kilometers_Driven  6019 non-null   int64  \n",
            " 4   Fuel_Type          6019 non-null   object \n",
            " 5   Transmission       6019 non-null   object \n",
            " 6   Owner_Type         6019 non-null   object \n",
            " 7   Mileage            6017 non-null   object \n",
            " 8   Engine             5983 non-null   object \n",
            " 9   Power              5983 non-null   object \n",
            " 10  Seats              5977 non-null   float64\n",
            " 11  Price              6019 non-null   float64\n",
            "dtypes: float64(2), int64(2), object(8)\n",
            "memory usage: 564.4+ KB\n"
          ],
          "name": "stdout"
        }
      ]
    },
    {
      "cell_type": "code",
      "metadata": {
        "trusted": true,
        "id": "dYNHLuV0-XHS",
        "colab_type": "code",
        "colab": {},
        "outputId": "f8f27677-e423-49ec-af73-c0dbd167ad99"
      },
      "source": [
        "train.nunique()"
      ],
      "execution_count": null,
      "outputs": [
        {
          "output_type": "execute_result",
          "data": {
            "text/plain": [
              "Name                 1876\n",
              "Location               11\n",
              "Year                   22\n",
              "Kilometers_Driven    3093\n",
              "Fuel_Type               5\n",
              "Transmission            2\n",
              "Owner_Type              4\n",
              "Mileage               442\n",
              "Engine                146\n",
              "Power                 372\n",
              "Seats                   9\n",
              "Price                1373\n",
              "dtype: int64"
            ]
          },
          "metadata": {
            "tags": []
          },
          "execution_count": 171
        }
      ]
    },
    {
      "cell_type": "code",
      "metadata": {
        "trusted": true,
        "id": "-LuD7V8c-XHV",
        "colab_type": "code",
        "colab": {},
        "outputId": "a1646fbb-0509-49e0-f473-8883d425615d"
      },
      "source": [
        "train.isnull().sum()"
      ],
      "execution_count": null,
      "outputs": [
        {
          "output_type": "execute_result",
          "data": {
            "text/plain": [
              "Name                  0\n",
              "Location              0\n",
              "Year                  0\n",
              "Kilometers_Driven     0\n",
              "Fuel_Type             0\n",
              "Transmission          0\n",
              "Owner_Type            0\n",
              "Mileage               2\n",
              "Engine               36\n",
              "Power                36\n",
              "Seats                42\n",
              "Price                 0\n",
              "dtype: int64"
            ]
          },
          "metadata": {
            "tags": []
          },
          "execution_count": 172
        }
      ]
    },
    {
      "cell_type": "markdown",
      "metadata": {
        "id": "-OfAChOH-XHX",
        "colab_type": "text"
      },
      "source": [
        "#### The columns Mileage, Engine, Power, Seats have null values"
      ]
    },
    {
      "cell_type": "markdown",
      "metadata": {
        "id": "gIVeN2Cv-XHX",
        "colab_type": "text"
      },
      "source": [
        "## Data Pre-processing "
      ]
    },
    {
      "cell_type": "markdown",
      "metadata": {
        "id": "4Rqd_1Tj-XHY",
        "colab_type": "text"
      },
      "source": [
        "### Removing Outliers from the Data"
      ]
    },
    {
      "cell_type": "code",
      "metadata": {
        "trusted": true,
        "id": "ucCKa1gN-XHZ",
        "colab_type": "code",
        "colab": {},
        "outputId": "10b73f24-17a4-4679-e64b-31f6149ff7af"
      },
      "source": [
        "train.shape"
      ],
      "execution_count": null,
      "outputs": [
        {
          "output_type": "execute_result",
          "data": {
            "text/plain": [
              "(6019, 12)"
            ]
          },
          "metadata": {
            "tags": []
          },
          "execution_count": 173
        }
      ]
    },
    {
      "cell_type": "code",
      "metadata": {
        "trusted": true,
        "id": "Syh_NZ8Z-XHc",
        "colab_type": "code",
        "colab": {},
        "outputId": "dff4c1e0-981b-4811-e575-4d394585192e"
      },
      "source": [
        "train.Fuel_Type.value_counts()"
      ],
      "execution_count": null,
      "outputs": [
        {
          "output_type": "execute_result",
          "data": {
            "text/plain": [
              "Diesel      3205\n",
              "Petrol      2746\n",
              "CNG           56\n",
              "LPG           10\n",
              "Electric       2\n",
              "Name: Fuel_Type, dtype: int64"
            ]
          },
          "metadata": {
            "tags": []
          },
          "execution_count": 174
        }
      ]
    },
    {
      "cell_type": "markdown",
      "metadata": {
        "id": "n1ejOsTm-XHf",
        "colab_type": "text"
      },
      "source": [
        "#### Removing the outliers in Fuel_Type"
      ]
    },
    {
      "cell_type": "code",
      "metadata": {
        "trusted": true,
        "id": "9V2etwL8-XHg",
        "colab_type": "code",
        "colab": {},
        "outputId": "bde31ea5-02c7-4aae-ea44-6aaa466bc872"
      },
      "source": [
        "train = train[train['Fuel_Type'] != 'Electric']\n",
        "train.shape"
      ],
      "execution_count": null,
      "outputs": [
        {
          "output_type": "execute_result",
          "data": {
            "text/plain": [
              "(6017, 12)"
            ]
          },
          "metadata": {
            "tags": []
          },
          "execution_count": 175
        }
      ]
    },
    {
      "cell_type": "code",
      "metadata": {
        "trusted": true,
        "id": "xjraXXCY-XHi",
        "colab_type": "code",
        "colab": {},
        "outputId": "51a9a142-3c30-4307-f0bf-396a117a2429"
      },
      "source": [
        "print(train.Kilometers_Driven.min())\n",
        "print(train.Kilometers_Driven.max())"
      ],
      "execution_count": null,
      "outputs": [
        {
          "output_type": "stream",
          "text": [
            "171\n",
            "6500000\n"
          ],
          "name": "stdout"
        }
      ]
    },
    {
      "cell_type": "code",
      "metadata": {
        "trusted": true,
        "id": "xT3ms__b-XHl",
        "colab_type": "code",
        "colab": {},
        "outputId": "0c5a0a27-b0db-47eb-fde1-c65d00b85208"
      },
      "source": [
        "plt.boxplot(train.Kilometers_Driven)"
      ],
      "execution_count": null,
      "outputs": [
        {
          "output_type": "execute_result",
          "data": {
            "text/plain": [
              "{'whiskers': [<matplotlib.lines.Line2D at 0x7f52bc1a3a50>,\n",
              "  <matplotlib.lines.Line2D at 0x7f52bc1a3f90>],\n",
              " 'caps': [<matplotlib.lines.Line2D at 0x7f52bc1ea510>,\n",
              "  <matplotlib.lines.Line2D at 0x7f52bc1eaa50>],\n",
              " 'boxes': [<matplotlib.lines.Line2D at 0x7f52bc1a3490>],\n",
              " 'medians': [<matplotlib.lines.Line2D at 0x7f52bc1eafd0>],\n",
              " 'fliers': [<matplotlib.lines.Line2D at 0x7f52bc165a10>],\n",
              " 'means': []}"
            ]
          },
          "metadata": {
            "tags": []
          },
          "execution_count": 177
        },
        {
          "output_type": "display_data",
          "data": {
            "text/plain": [
              "<Figure size 432x288 with 1 Axes>"
            ],
            "image/png": "[encoded data removed]"
          },
          "metadata": {
            "tags": [],
            "needs_background": "light"
          }
        }
      ]
    },
    {
      "cell_type": "code",
      "metadata": {
        "trusted": true,
        "id": "XG2IuVrZ-XHn",
        "colab_type": "code",
        "colab": {},
        "outputId": "416f51d0-9384-403e-9380-6e8ac7201b6c"
      },
      "source": [
        "print(len(train[train['Kilometers_Driven'] > 500000]))\n",
        "print(len(train[train['Kilometers_Driven'] < 1000]))"
      ],
      "execution_count": null,
      "outputs": [
        {
          "output_type": "stream",
          "text": [
            "4\n",
            "2\n"
          ],
          "name": "stdout"
        }
      ]
    },
    {
      "cell_type": "markdown",
      "metadata": {
        "id": "uVrZNQAI-XHq",
        "colab_type": "text"
      },
      "source": [
        "#### Removing the outliers in Kilomerers_Driven"
      ]
    },
    {
      "cell_type": "code",
      "metadata": {
        "trusted": true,
        "id": "z5vT-97p-XHq",
        "colab_type": "code",
        "colab": {},
        "outputId": "773ce238-d712-4e49-e89d-ddee150472fc"
      },
      "source": [
        "train = train[train['Kilometers_Driven'] < 500000]\n",
        "train = train[train['Kilometers_Driven'] > 1000]\n",
        "train.shape\n"
      ],
      "execution_count": null,
      "outputs": [
        {
          "output_type": "execute_result",
          "data": {
            "text/plain": [
              "(6002, 12)"
            ]
          },
          "metadata": {
            "tags": []
          },
          "execution_count": 179
        }
      ]
    },
    {
      "cell_type": "markdown",
      "metadata": {
        "id": "HBDViBBo-XHt",
        "colab_type": "text"
      },
      "source": [
        "#### Modifying car names to group by brand"
      ]
    },
    {
      "cell_type": "code",
      "metadata": {
        "trusted": true,
        "id": "3PXds0BV-XHw",
        "colab_type": "code",
        "colab": {}
      },
      "source": [
        "train.Name = train.Name.str.split().str.get(0)\n",
        "test.Name = test.Name.str.split().str.get(0)"
      ],
      "execution_count": null,
      "outputs": []
    },
    {
      "cell_type": "code",
      "metadata": {
        "trusted": true,
        "id": "NeZpJgVC-XHy",
        "colab_type": "code",
        "colab": {},
        "outputId": "d222cc14-e105-4edb-f5b4-ba89edac8857"
      },
      "source": [
        "train.head()"
      ],
      "execution_count": null,
      "outputs": [
        {
          "output_type": "execute_result",
          "data": {
            "text/plain": [
              "      Name    Location  Year  Kilometers_Driven Fuel_Type Transmission  \\\n",
              "0   Maruti      Mumbai  2010              72000       CNG       Manual   \n",
              "1  Hyundai        Pune  2015              41000    Diesel       Manual   \n",
              "2    Honda     Chennai  2011              46000    Petrol       Manual   \n",
              "3   Maruti     Chennai  2012              87000    Diesel       Manual   \n",
              "4     Audi  Coimbatore  2013              40670    Diesel    Automatic   \n",
              "\n",
              "  Owner_Type     Mileage   Engine      Power  Seats  Price  \n",
              "0      First  26.6 km/kg   998 CC  58.16 bhp    5.0   1.75  \n",
              "1      First  19.67 kmpl  1582 CC  126.2 bhp    5.0  12.50  \n",
              "2      First   18.2 kmpl  1199 CC   88.7 bhp    5.0   4.50  \n",
              "3      First  20.77 kmpl  1248 CC  88.76 bhp    7.0   6.00  \n",
              "4     Second   15.2 kmpl  1968 CC  140.8 bhp    5.0  17.74  "
            ],
            "text/html": [
              "<div>\n",
              "<style scoped>\n",
              "    .dataframe tbody tr th:only-of-type {\n",
              "        vertical-align: middle;\n",
              "    }\n",
              "\n",
              "    .dataframe tbody tr th {\n",
              "        vertical-align: top;\n",
              "    }\n",
              "\n",
              "    .dataframe thead th {\n",
              "        text-align: right;\n",
              "    }\n",
              "</style>\n",
              "<table border=\"1\" class=\"dataframe\">\n",
              "  <thead>\n",
              "    <tr style=\"text-align: right;\">\n",
              "      <th></th>\n",
              "      <th>Name</th>\n",
              "      <th>Location</th>\n",
              "      <th>Year</th>\n",
              "      <th>Kilometers_Driven</th>\n",
              "      <th>Fuel_Type</th>\n",
              "      <th>Transmission</th>\n",
              "      <th>Owner_Type</th>\n",
              "      <th>Mileage</th>\n",
              "      <th>Engine</th>\n",
              "      <th>Power</th>\n",
              "      <th>Seats</th>\n",
              "      <th>Price</th>\n",
              "    </tr>\n",
              "  </thead>\n",
              "  <tbody>\n",
              "    <tr>\n",
              "      <th>0</th>\n",
              "      <td>Maruti</td>\n",
              "      <td>Mumbai</td>\n",
              "      <td>2010</td>\n",
              "      <td>72000</td>\n",
              "      <td>CNG</td>\n",
              "      <td>Manual</td>\n",
              "      <td>First</td>\n",
              "      <td>26.6 km/kg</td>\n",
              "      <td>998 CC</td>\n",
              "      <td>58.16 bhp</td>\n",
              "      <td>5.0</td>\n",
              "      <td>1.75</td>\n",
              "    </tr>\n",
              "    <tr>\n",
              "      <th>1</th>\n",
              "      <td>Hyundai</td>\n",
              "      <td>Pune</td>\n",
              "      <td>2015</td>\n",
              "      <td>41000</td>\n",
              "      <td>Diesel</td>\n",
              "      <td>Manual</td>\n",
              "      <td>First</td>\n",
              "      <td>19.67 kmpl</td>\n",
              "      <td>1582 CC</td>\n",
              "      <td>126.2 bhp</td>\n",
              "      <td>5.0</td>\n",
              "      <td>12.50</td>\n",
              "    </tr>\n",
              "    <tr>\n",
              "      <th>2</th>\n",
              "      <td>Honda</td>\n",
              "      <td>Chennai</td>\n",
              "      <td>2011</td>\n",
              "      <td>46000</td>\n",
              "      <td>Petrol</td>\n",
              "      <td>Manual</td>\n",
              "      <td>First</td>\n",
              "      <td>18.2 kmpl</td>\n",
              "      <td>1199 CC</td>\n",
              "      <td>88.7 bhp</td>\n",
              "      <td>5.0</td>\n",
              "      <td>4.50</td>\n",
              "    </tr>\n",
              "    <tr>\n",
              "      <th>3</th>\n",
              "      <td>Maruti</td>\n",
              "      <td>Chennai</td>\n",
              "      <td>2012</td>\n",
              "      <td>87000</td>\n",
              "      <td>Diesel</td>\n",
              "      <td>Manual</td>\n",
              "      <td>First</td>\n",
              "      <td>20.77 kmpl</td>\n",
              "      <td>1248 CC</td>\n",
              "      <td>88.76 bhp</td>\n",
              "      <td>7.0</td>\n",
              "      <td>6.00</td>\n",
              "    </tr>\n",
              "    <tr>\n",
              "      <th>4</th>\n",
              "      <td>Audi</td>\n",
              "      <td>Coimbatore</td>\n",
              "      <td>2013</td>\n",
              "      <td>40670</td>\n",
              "      <td>Diesel</td>\n",
              "      <td>Automatic</td>\n",
              "      <td>Second</td>\n",
              "      <td>15.2 kmpl</td>\n",
              "      <td>1968 CC</td>\n",
              "      <td>140.8 bhp</td>\n",
              "      <td>5.0</td>\n",
              "      <td>17.74</td>\n",
              "    </tr>\n",
              "  </tbody>\n",
              "</table>\n",
              "</div>"
            ]
          },
          "metadata": {
            "tags": []
          },
          "execution_count": 181
        }
      ]
    },
    {
      "cell_type": "code",
      "metadata": {
        "trusted": true,
        "id": "dPXDpbFG-XH1",
        "colab_type": "code",
        "colab": {},
        "outputId": "289079e9-e343-439f-ecda-08cc64d096dc"
      },
      "source": [
        "train.Name.value_counts()"
      ],
      "execution_count": null,
      "outputs": [
        {
          "output_type": "execute_result",
          "data": {
            "text/plain": [
              "Maruti           1208\n",
              "Hyundai          1104\n",
              "Honda             608\n",
              "Toyota            410\n",
              "Mercedes-Benz     318\n",
              "Volkswagen        313\n",
              "Ford              299\n",
              "Mahindra          271\n",
              "BMW               266\n",
              "Audi              236\n",
              "Tata              184\n",
              "Skoda             172\n",
              "Renault           144\n",
              "Chevrolet         121\n",
              "Nissan             91\n",
              "Land               60\n",
              "Jaguar             39\n",
              "Fiat               28\n",
              "Mitsubishi         27\n",
              "Mini               26\n",
              "Volvo              21\n",
              "Porsche            18\n",
              "Jeep               15\n",
              "Datsun             13\n",
              "Force               3\n",
              "ISUZU               2\n",
              "Smart               1\n",
              "Ambassador          1\n",
              "Bentley             1\n",
              "Isuzu               1\n",
              "Lamborghini         1\n",
              "Name: Name, dtype: int64"
            ]
          },
          "metadata": {
            "tags": []
          },
          "execution_count": 182
        }
      ]
    },
    {
      "cell_type": "markdown",
      "metadata": {
        "id": "vZU6P2B_-XH3",
        "colab_type": "text"
      },
      "source": [
        "#### Removing outliers in car brands"
      ]
    },
    {
      "cell_type": "code",
      "metadata": {
        "trusted": true,
        "id": "7YWpSLU_-XH3",
        "colab_type": "code",
        "colab": {}
      },
      "source": [
        "train = train[train['Name'] != 'Force']\n",
        "train = train[train['Name'] != 'ISUZU']\n",
        "train = train[train['Name'] != 'Bentley']\n",
        "train = train[train['Name'] != 'Lamborghini']\n",
        "train = train[train['Name'] != 'Isuzu']\n",
        "train = train[train['Name'] != 'Smart']\n",
        "train = train[train['Name'] != 'Ambassador']"
      ],
      "execution_count": null,
      "outputs": []
    },
    {
      "cell_type": "code",
      "metadata": {
        "trusted": true,
        "id": "8mOa7Cu--XH5",
        "colab_type": "code",
        "colab": {},
        "outputId": "d7da6128-9487-426f-f33e-65f2eada8165"
      },
      "source": [
        "train.shape"
      ],
      "execution_count": null,
      "outputs": [
        {
          "output_type": "execute_result",
          "data": {
            "text/plain": [
              "(5992, 12)"
            ]
          },
          "metadata": {
            "tags": []
          },
          "execution_count": 184
        }
      ]
    },
    {
      "cell_type": "markdown",
      "metadata": {
        "id": "6oQD7_M--XH8",
        "colab_type": "text"
      },
      "source": [
        "#### Removing Outliers in Price"
      ]
    },
    {
      "cell_type": "code",
      "metadata": {
        "trusted": true,
        "id": "97o4RxHT-XH8",
        "colab_type": "code",
        "colab": {},
        "outputId": "0cb252f0-dd5b-4215-e677-5a768453d5c5"
      },
      "source": [
        "sns.boxplot(train.Price)"
      ],
      "execution_count": null,
      "outputs": [
        {
          "output_type": "execute_result",
          "data": {
            "text/plain": [
              "<matplotlib.axes._subplots.AxesSubplot at 0x7f52b6b34950>"
            ]
          },
          "metadata": {
            "tags": []
          },
          "execution_count": 185
        },
        {
          "output_type": "display_data",
          "data": {
            "text/plain": [
              "<Figure size 432x288 with 1 Axes>"
            ],
            "image/png": "[encoded data removed]"
          },
          "metadata": {
            "tags": [],
            "needs_background": "light"
          }
        }
      ]
    },
    {
      "cell_type": "code",
      "metadata": {
        "trusted": true,
        "id": "Y6TTyiul-XH-",
        "colab_type": "code",
        "colab": {},
        "outputId": "73065f5e-99b4-4fd7-fa0d-efa8de248789"
      },
      "source": [
        "print(train.Price.min())\n",
        "print(train.Price.max())"
      ],
      "execution_count": null,
      "outputs": [
        {
          "output_type": "stream",
          "text": [
            "0.44\n",
            "160.0\n"
          ],
          "name": "stdout"
        }
      ]
    },
    {
      "cell_type": "code",
      "metadata": {
        "trusted": true,
        "id": "D3snCJ19-XIB",
        "colab_type": "code",
        "colab": {},
        "outputId": "edb0c0ad-3afa-4ae5-fcf0-60de21b7aa8a"
      },
      "source": [
        "train = train[train.Price < 120]\n",
        "train.shape"
      ],
      "execution_count": null,
      "outputs": [
        {
          "output_type": "execute_result",
          "data": {
            "text/plain": [
              "(5991, 12)"
            ]
          },
          "metadata": {
            "tags": []
          },
          "execution_count": 187
        }
      ]
    },
    {
      "cell_type": "code",
      "metadata": {
        "trusted": true,
        "id": "ame6cSHZ-XID",
        "colab_type": "code",
        "colab": {},
        "outputId": "54032125-6042-4d05-f655-5a4a316d08e3"
      },
      "source": [
        "train = train[train.Price > 0.5]\n",
        "train.shape"
      ],
      "execution_count": null,
      "outputs": [
        {
          "output_type": "execute_result",
          "data": {
            "text/plain": [
              "(5985, 12)"
            ]
          },
          "metadata": {
            "tags": []
          },
          "execution_count": 188
        }
      ]
    },
    {
      "cell_type": "markdown",
      "metadata": {
        "id": "tHFSZOq1-XIF",
        "colab_type": "text"
      },
      "source": [
        "#### Converting Mileage, Engine and Power to numerical columns"
      ]
    },
    {
      "cell_type": "code",
      "metadata": {
        "trusted": true,
        "id": "fV2om3R4-XIG",
        "colab_type": "code",
        "colab": {}
      },
      "source": [
        "train.Mileage = train.Mileage.str.split().str.get(0).astype('float')\n",
        "train.Engine = train.Engine.str.split().str.get(0).astype('int', errors='ignore')\n",
        "train.Power = train.Power.str.split().str.get(0).astype('float', errors='ignore')\n",
        "train.head()\n",
        "\n",
        "test.Mileage = test.Mileage.str.split().str.get(0).astype('float')\n",
        "test.Engine = test.Engine.str.split().str.get(0).astype('int', errors='ignore')\n",
        "test.Power = test.Power.str.split().str.get(0).astype('float', errors='ignore')"
      ],
      "execution_count": null,
      "outputs": []
    },
    {
      "cell_type": "markdown",
      "metadata": {
        "id": "cy47Hcri-XII",
        "colab_type": "text"
      },
      "source": [
        "#### Calculating age of the car from Year"
      ]
    },
    {
      "cell_type": "code",
      "metadata": {
        "trusted": true,
        "id": "fOzoe__j-XII",
        "colab_type": "code",
        "colab": {},
        "outputId": "db700aa5-36ca-455b-f176-38f4bf9c87f0"
      },
      "source": [
        "train['Car_age'] = 2020 - train['Year']\n",
        "test['Car_age'] = 2020 - test['Year']\n",
        "train.head()"
      ],
      "execution_count": null,
      "outputs": [
        {
          "output_type": "execute_result",
          "data": {
            "text/plain": [
              "      Name    Location  Year  Kilometers_Driven Fuel_Type Transmission  \\\n",
              "0   Maruti      Mumbai  2010              72000       CNG       Manual   \n",
              "1  Hyundai        Pune  2015              41000    Diesel       Manual   \n",
              "2    Honda     Chennai  2011              46000    Petrol       Manual   \n",
              "3   Maruti     Chennai  2012              87000    Diesel       Manual   \n",
              "4     Audi  Coimbatore  2013              40670    Diesel    Automatic   \n",
              "\n",
              "  Owner_Type  Mileage Engine  Power  Seats  Price  Car_age  \n",
              "0      First    26.60    998  58.16    5.0   1.75       10  \n",
              "1      First    19.67   1582  126.2    5.0  12.50        5  \n",
              "2      First    18.20   1199   88.7    5.0   4.50        9  \n",
              "3      First    20.77   1248  88.76    7.0   6.00        8  \n",
              "4     Second    15.20   1968  140.8    5.0  17.74        7  "
            ],
            "text/html": [
              "<div>\n",
              "<style scoped>\n",
              "    .dataframe tbody tr th:only-of-type {\n",
              "        vertical-align: middle;\n",
              "    }\n",
              "\n",
              "    .dataframe tbody tr th {\n",
              "        vertical-align: top;\n",
              "    }\n",
              "\n",
              "    .dataframe thead th {\n",
              "        text-align: right;\n",
              "    }\n",
              "</style>\n",
              "<table border=\"1\" class=\"dataframe\">\n",
              "  <thead>\n",
              "    <tr style=\"text-align: right;\">\n",
              "      <th></th>\n",
              "      <th>Name</th>\n",
              "      <th>Location</th>\n",
              "      <th>Year</th>\n",
              "      <th>Kilometers_Driven</th>\n",
              "      <th>Fuel_Type</th>\n",
              "      <th>Transmission</th>\n",
              "      <th>Owner_Type</th>\n",
              "      <th>Mileage</th>\n",
              "      <th>Engine</th>\n",
              "      <th>Power</th>\n",
              "      <th>Seats</th>\n",
              "      <th>Price</th>\n",
              "      <th>Car_age</th>\n",
              "    </tr>\n",
              "  </thead>\n",
              "  <tbody>\n",
              "    <tr>\n",
              "      <th>0</th>\n",
              "      <td>Maruti</td>\n",
              "      <td>Mumbai</td>\n",
              "      <td>2010</td>\n",
              "      <td>72000</td>\n",
              "      <td>CNG</td>\n",
              "      <td>Manual</td>\n",
              "      <td>First</td>\n",
              "      <td>26.60</td>\n",
              "      <td>998</td>\n",
              "      <td>58.16</td>\n",
              "      <td>5.0</td>\n",
              "      <td>1.75</td>\n",
              "      <td>10</td>\n",
              "    </tr>\n",
              "    <tr>\n",
              "      <th>1</th>\n",
              "      <td>Hyundai</td>\n",
              "      <td>Pune</td>\n",
              "      <td>2015</td>\n",
              "      <td>41000</td>\n",
              "      <td>Diesel</td>\n",
              "      <td>Manual</td>\n",
              "      <td>First</td>\n",
              "      <td>19.67</td>\n",
              "      <td>1582</td>\n",
              "      <td>126.2</td>\n",
              "      <td>5.0</td>\n",
              "      <td>12.50</td>\n",
              "      <td>5</td>\n",
              "    </tr>\n",
              "    <tr>\n",
              "      <th>2</th>\n",
              "      <td>Honda</td>\n",
              "      <td>Chennai</td>\n",
              "      <td>2011</td>\n",
              "      <td>46000</td>\n",
              "      <td>Petrol</td>\n",
              "      <td>Manual</td>\n",
              "      <td>First</td>\n",
              "      <td>18.20</td>\n",
              "      <td>1199</td>\n",
              "      <td>88.7</td>\n",
              "      <td>5.0</td>\n",
              "      <td>4.50</td>\n",
              "      <td>9</td>\n",
              "    </tr>\n",
              "    <tr>\n",
              "      <th>3</th>\n",
              "      <td>Maruti</td>\n",
              "      <td>Chennai</td>\n",
              "      <td>2012</td>\n",
              "      <td>87000</td>\n",
              "      <td>Diesel</td>\n",
              "      <td>Manual</td>\n",
              "      <td>First</td>\n",
              "      <td>20.77</td>\n",
              "      <td>1248</td>\n",
              "      <td>88.76</td>\n",
              "      <td>7.0</td>\n",
              "      <td>6.00</td>\n",
              "      <td>8</td>\n",
              "    </tr>\n",
              "    <tr>\n",
              "      <th>4</th>\n",
              "      <td>Audi</td>\n",
              "      <td>Coimbatore</td>\n",
              "      <td>2013</td>\n",
              "      <td>40670</td>\n",
              "      <td>Diesel</td>\n",
              "      <td>Automatic</td>\n",
              "      <td>Second</td>\n",
              "      <td>15.20</td>\n",
              "      <td>1968</td>\n",
              "      <td>140.8</td>\n",
              "      <td>5.0</td>\n",
              "      <td>17.74</td>\n",
              "      <td>7</td>\n",
              "    </tr>\n",
              "  </tbody>\n",
              "</table>\n",
              "</div>"
            ]
          },
          "metadata": {
            "tags": []
          },
          "execution_count": 190
        }
      ]
    },
    {
      "cell_type": "markdown",
      "metadata": {
        "id": "SrfV132u-XIK",
        "colab_type": "text"
      },
      "source": [
        "#### Applying Log to the Price to normalise it"
      ]
    },
    {
      "cell_type": "code",
      "metadata": {
        "trusted": true,
        "id": "3Pxl3chV-XIK",
        "colab_type": "code",
        "colab": {}
      },
      "source": [
        "train.Price = np.log1p(train.Price)"
      ],
      "execution_count": null,
      "outputs": []
    },
    {
      "cell_type": "markdown",
      "metadata": {
        "id": "I_sbVo0o-XIN",
        "colab_type": "text"
      },
      "source": [
        "#### Performing label encoding for categorical data"
      ]
    },
    {
      "cell_type": "code",
      "metadata": {
        "trusted": true,
        "id": "TiKwkYNr-XIN",
        "colab_type": "code",
        "colab": {}
      },
      "source": [
        "from sklearn.preprocessing import LabelEncoder\n",
        "label_encoder = LabelEncoder()"
      ],
      "execution_count": null,
      "outputs": []
    },
    {
      "cell_type": "code",
      "metadata": {
        "trusted": true,
        "id": "8NCCmamU-XIP",
        "colab_type": "code",
        "colab": {},
        "outputId": "38186d23-d082-4d7a-c053-71ac6c58c5b0"
      },
      "source": [
        "train['Name'] = label_encoder.fit_transform(train['Name'])\n",
        "train['Location'] = label_encoder.fit_transform(train['Location'])\n",
        "train['Fuel_Type'] = label_encoder.fit_transform(train['Fuel_Type'])\n",
        "train['Transmission'] = label_encoder.fit_transform(train['Transmission'])\n",
        "train['Owner_Type'] = label_encoder.fit_transform(train['Owner_Type'])\n",
        "\n",
        "\n",
        "test['Name'] = label_encoder.fit_transform(test['Name'])\n",
        "test['Location'] = label_encoder.fit_transform(test['Location'])\n",
        "test['Fuel_Type'] = label_encoder.fit_transform(test['Fuel_Type'])\n",
        "test['Transmission'] = label_encoder.fit_transform(test['Transmission'])\n",
        "test['Owner_Type'] = label_encoder.fit_transform(test['Owner_Type'])\n",
        "\n",
        "train.head()"
      ],
      "execution_count": null,
      "outputs": [
        {
          "output_type": "execute_result",
          "data": {
            "text/plain": [
              "   Name  Location  Year  Kilometers_Driven  Fuel_Type  Transmission  \\\n",
              "0    12         9  2010              72000          0             1   \n",
              "1     7        10  2015              41000          1             1   \n",
              "2     6         2  2011              46000          3             1   \n",
              "3    12         2  2012              87000          1             1   \n",
              "4     0         3  2013              40670          1             0   \n",
              "\n",
              "   Owner_Type  Mileage Engine  Power  Seats     Price  Car_age  \n",
              "0           0    26.60    998  58.16    5.0  1.011601       10  \n",
              "1           0    19.67   1582  126.2    5.0  2.602690        5  \n",
              "2           0    18.20   1199   88.7    5.0  1.704748        9  \n",
              "3           0    20.77   1248  88.76    7.0  1.945910        8  \n",
              "4           2    15.20   1968  140.8    5.0  2.930660        7  "
            ],
            "text/html": [
              "<div>\n",
              "<style scoped>\n",
              "    .dataframe tbody tr th:only-of-type {\n",
              "        vertical-align: middle;\n",
              "    }\n",
              "\n",
              "    .dataframe tbody tr th {\n",
              "        vertical-align: top;\n",
              "    }\n",
              "\n",
              "    .dataframe thead th {\n",
              "        text-align: right;\n",
              "    }\n",
              "</style>\n",
              "<table border=\"1\" class=\"dataframe\">\n",
              "  <thead>\n",
              "    <tr style=\"text-align: right;\">\n",
              "      <th></th>\n",
              "      <th>Name</th>\n",
              "      <th>Location</th>\n",
              "      <th>Year</th>\n",
              "      <th>Kilometers_Driven</th>\n",
              "      <th>Fuel_Type</th>\n",
              "      <th>Transmission</th>\n",
              "      <th>Owner_Type</th>\n",
              "      <th>Mileage</th>\n",
              "      <th>Engine</th>\n",
              "      <th>Power</th>\n",
              "      <th>Seats</th>\n",
              "      <th>Price</th>\n",
              "      <th>Car_age</th>\n",
              "    </tr>\n",
              "  </thead>\n",
              "  <tbody>\n",
              "    <tr>\n",
              "      <th>0</th>\n",
              "      <td>12</td>\n",
              "      <td>9</td>\n",
              "      <td>2010</td>\n",
              "      <td>72000</td>\n",
              "      <td>0</td>\n",
              "      <td>1</td>\n",
              "      <td>0</td>\n",
              "      <td>26.60</td>\n",
              "      <td>998</td>\n",
              "      <td>58.16</td>\n",
              "      <td>5.0</td>\n",
              "      <td>1.011601</td>\n",
              "      <td>10</td>\n",
              "    </tr>\n",
              "    <tr>\n",
              "      <th>1</th>\n",
              "      <td>7</td>\n",
              "      <td>10</td>\n",
              "      <td>2015</td>\n",
              "      <td>41000</td>\n",
              "      <td>1</td>\n",
              "      <td>1</td>\n",
              "      <td>0</td>\n",
              "      <td>19.67</td>\n",
              "      <td>1582</td>\n",
              "      <td>126.2</td>\n",
              "      <td>5.0</td>\n",
              "      <td>2.602690</td>\n",
              "      <td>5</td>\n",
              "    </tr>\n",
              "    <tr>\n",
              "      <th>2</th>\n",
              "      <td>6</td>\n",
              "      <td>2</td>\n",
              "      <td>2011</td>\n",
              "      <td>46000</td>\n",
              "      <td>3</td>\n",
              "      <td>1</td>\n",
              "      <td>0</td>\n",
              "      <td>18.20</td>\n",
              "      <td>1199</td>\n",
              "      <td>88.7</td>\n",
              "      <td>5.0</td>\n",
              "      <td>1.704748</td>\n",
              "      <td>9</td>\n",
              "    </tr>\n",
              "    <tr>\n",
              "      <th>3</th>\n",
              "      <td>12</td>\n",
              "      <td>2</td>\n",
              "      <td>2012</td>\n",
              "      <td>87000</td>\n",
              "      <td>1</td>\n",
              "      <td>1</td>\n",
              "      <td>0</td>\n",
              "      <td>20.77</td>\n",
              "      <td>1248</td>\n",
              "      <td>88.76</td>\n",
              "      <td>7.0</td>\n",
              "      <td>1.945910</td>\n",
              "      <td>8</td>\n",
              "    </tr>\n",
              "    <tr>\n",
              "      <th>4</th>\n",
              "      <td>0</td>\n",
              "      <td>3</td>\n",
              "      <td>2013</td>\n",
              "      <td>40670</td>\n",
              "      <td>1</td>\n",
              "      <td>0</td>\n",
              "      <td>2</td>\n",
              "      <td>15.20</td>\n",
              "      <td>1968</td>\n",
              "      <td>140.8</td>\n",
              "      <td>5.0</td>\n",
              "      <td>2.930660</td>\n",
              "      <td>7</td>\n",
              "    </tr>\n",
              "  </tbody>\n",
              "</table>\n",
              "</div>"
            ]
          },
          "metadata": {
            "tags": []
          },
          "execution_count": 193
        }
      ]
    },
    {
      "cell_type": "markdown",
      "metadata": {
        "id": "hfoVTM7d-XIS",
        "colab_type": "text"
      },
      "source": [
        "#### Dealing with missing values "
      ]
    },
    {
      "cell_type": "code",
      "metadata": {
        "trusted": true,
        "id": "OyBCzfWo-XIS",
        "colab_type": "code",
        "colab": {},
        "outputId": "cdc67261-1fdc-4012-ac58-6a2b834addc0"
      },
      "source": [
        "train.isnull().sum()"
      ],
      "execution_count": null,
      "outputs": [
        {
          "output_type": "execute_result",
          "data": {
            "text/plain": [
              "Name                  0\n",
              "Location              0\n",
              "Year                  0\n",
              "Kilometers_Driven     0\n",
              "Fuel_Type             0\n",
              "Transmission          0\n",
              "Owner_Type            0\n",
              "Mileage               0\n",
              "Engine               36\n",
              "Power                36\n",
              "Seats                42\n",
              "Price                 0\n",
              "Car_age               0\n",
              "dtype: int64"
            ]
          },
          "metadata": {
            "tags": []
          },
          "execution_count": 194
        }
      ]
    },
    {
      "cell_type": "code",
      "metadata": {
        "trusted": true,
        "id": "qxII0CbC-XIU",
        "colab_type": "code",
        "colab": {},
        "outputId": "4b90c3ea-4520-43ff-d847-0289ae0558b1"
      },
      "source": [
        "train.dtypes"
      ],
      "execution_count": null,
      "outputs": [
        {
          "output_type": "execute_result",
          "data": {
            "text/plain": [
              "Name                   int64\n",
              "Location               int64\n",
              "Year                   int64\n",
              "Kilometers_Driven      int64\n",
              "Fuel_Type              int64\n",
              "Transmission           int64\n",
              "Owner_Type             int64\n",
              "Mileage              float64\n",
              "Engine                object\n",
              "Power                 object\n",
              "Seats                float64\n",
              "Price                float64\n",
              "Car_age                int64\n",
              "dtype: object"
            ]
          },
          "metadata": {
            "tags": []
          },
          "execution_count": 195
        }
      ]
    },
    {
      "cell_type": "code",
      "metadata": {
        "trusted": true,
        "id": "zdQoU0Jh-XIW",
        "colab_type": "code",
        "colab": {}
      },
      "source": [
        "train.Engine = pd.to_numeric(train.Engine, errors='coerce')\n",
        "train.Power = pd.to_numeric(train.Power, errors='coerce')\n",
        "test.Engine = pd.to_numeric(test.Engine, errors='coerce')\n",
        "test.Power = pd.to_numeric(test.Power, errors='coerce')"
      ],
      "execution_count": null,
      "outputs": []
    },
    {
      "cell_type": "code",
      "metadata": {
        "trusted": true,
        "id": "laeL29BD-XIY",
        "colab_type": "code",
        "colab": {}
      },
      "source": [
        "from sklearn.impute import SimpleImputer\n",
        "imputer = SimpleImputer(missing_values = np.nan, strategy ='mean')\n",
        "train[[\"Engine\", \"Power\", \"Seats\"]] = imputer.fit_transform(train[[\"Engine\", \"Power\", \"Seats\"]])\n",
        "test[[\"Engine\", \"Power\", \"Seats\"]] = imputer.fit_transform(test[[\"Engine\", \"Power\", \"Seats\"]])\n"
      ],
      "execution_count": null,
      "outputs": []
    },
    {
      "cell_type": "code",
      "metadata": {
        "trusted": true,
        "id": "7sC28DOC-XIa",
        "colab_type": "code",
        "colab": {},
        "outputId": "794b8cbf-e453-4af4-f1aa-0bc5c92bce46"
      },
      "source": [
        "train.isnull().sum()"
      ],
      "execution_count": null,
      "outputs": [
        {
          "output_type": "execute_result",
          "data": {
            "text/plain": [
              "Name                 0\n",
              "Location             0\n",
              "Year                 0\n",
              "Kilometers_Driven    0\n",
              "Fuel_Type            0\n",
              "Transmission         0\n",
              "Owner_Type           0\n",
              "Mileage              0\n",
              "Engine               0\n",
              "Power                0\n",
              "Seats                0\n",
              "Price                0\n",
              "Car_age              0\n",
              "dtype: int64"
            ]
          },
          "metadata": {
            "tags": []
          },
          "execution_count": 198
        }
      ]
    },
    {
      "cell_type": "markdown",
      "metadata": {
        "id": "MR-actm9-XId",
        "colab_type": "text"
      },
      "source": [
        "#### The data now has no missing values"
      ]
    },
    {
      "cell_type": "markdown",
      "metadata": {
        "id": "ZtHPHW40-XIe",
        "colab_type": "text"
      },
      "source": [
        "## Applying ML models"
      ]
    },
    {
      "cell_type": "code",
      "metadata": {
        "trusted": true,
        "id": "Li7BrnA0-XIe",
        "colab_type": "code",
        "colab": {}
      },
      "source": [
        "y = train.Price\n",
        "X = train.drop(['Price'],axis=1)"
      ],
      "execution_count": null,
      "outputs": []
    },
    {
      "cell_type": "code",
      "metadata": {
        "trusted": true,
        "id": "y4qzjE5X-XIh",
        "colab_type": "code",
        "colab": {}
      },
      "source": [
        "from sklearn.model_selection import train_test_split\n",
        "X_train, X_valid, y_train, y_valid = train_test_split(X,y,test_size=0.2)"
      ],
      "execution_count": null,
      "outputs": []
    },
    {
      "cell_type": "markdown",
      "metadata": {
        "id": "Wa3ao1St-XIj",
        "colab_type": "text"
      },
      "source": [
        "### 1. Linear Regression"
      ]
    },
    {
      "cell_type": "code",
      "metadata": {
        "trusted": true,
        "id": "IULzvtK6-XIj",
        "colab_type": "code",
        "colab": {}
      },
      "source": [
        "from sklearn.linear_model import LinearRegression\n",
        "\n",
        "model1 = LinearRegression() \n",
        "model1.fit(X_train, y_train) \n",
        "\n",
        "y_pred = model1.predict(X_valid) "
      ],
      "execution_count": null,
      "outputs": []
    },
    {
      "cell_type": "code",
      "metadata": {
        "trusted": true,
        "id": "HQi5-eei-XIm",
        "colab_type": "code",
        "colab": {},
        "outputId": "0a166eb6-5391-41a1-8203-27f72ffcfcaa"
      },
      "source": [
        "from sklearn import metrics\n",
        "from sklearn.metrics import r2_score\n",
        "\n",
        "print('Mean Absolute Error:', metrics.mean_absolute_error(y_valid, y_pred))\n",
        "print('Mean Squared Error:', metrics.mean_squared_error(y_valid, y_pred))\n",
        "print('Root Mean Squared Error:', np.sqrt(metrics.mean_squared_error(y_valid, y_pred)))\n",
        "print(\"R2 score : %f\" % r2_score(y_valid,y_pred))"
      ],
      "execution_count": null,
      "outputs": [
        {
          "output_type": "stream",
          "text": [
            "Mean Absolute Error: 0.19648862251270416\n",
            "Mean Squared Error: 0.0663350399792466\n",
            "Root Mean Squared Error: 0.25755589680542473\n",
            "R2 score : 0.875847\n"
          ],
          "name": "stdout"
        }
      ]
    },
    {
      "cell_type": "markdown",
      "metadata": {
        "id": "98qqSlek-XIo",
        "colab_type": "text"
      },
      "source": [
        "### 2. Random Forest Regressor"
      ]
    },
    {
      "cell_type": "code",
      "metadata": {
        "trusted": true,
        "id": "xgsN-4b_-XIp",
        "colab_type": "code",
        "colab": {}
      },
      "source": [
        "from sklearn.ensemble import RandomForestRegressor\n",
        "\n",
        "model2 = RandomForestRegressor(n_estimators=200)\n",
        "model2.fit(X_train, y_train)\n",
        "y_pred2 = model2.predict(X_valid)"
      ],
      "execution_count": null,
      "outputs": []
    },
    {
      "cell_type": "code",
      "metadata": {
        "trusted": true,
        "id": "_rvN7dcC-XIr",
        "colab_type": "code",
        "colab": {},
        "outputId": "f0f31a31-10d2-4816-93e3-3d7ea43720a9"
      },
      "source": [
        "print('Mean Absolute Error:', metrics.mean_absolute_error(y_valid, y_pred2))\n",
        "print('Mean Squared Error:', metrics.mean_squared_error(y_valid, y_pred2))\n",
        "print('Root Mean Squared Error:', np.sqrt(metrics.mean_squared_error(y_valid, y_pred2)))\n",
        "print(\"R2 score : %f\" % r2_score(y_valid,y_pred2))"
      ],
      "execution_count": null,
      "outputs": [
        {
          "output_type": "stream",
          "text": [
            "Mean Absolute Error: 0.12544625600136464\n",
            "Mean Squared Error: 0.035687004982144124\n",
            "Root Mean Squared Error: 0.1889100446830293\n",
            "R2 score : 0.933208\n"
          ],
          "name": "stdout"
        }
      ]
    },
    {
      "cell_type": "markdown",
      "metadata": {
        "id": "vMyJMxxq-XIt",
        "colab_type": "text"
      },
      "source": [
        "### 3. XGBoost Regressor"
      ]
    },
    {
      "cell_type": "code",
      "metadata": {
        "trusted": true,
        "id": "9b1uJc4G-XIu",
        "colab_type": "code",
        "colab": {}
      },
      "source": [
        "from xgboost import XGBRegressor\n",
        "\n",
        "model3 = XGBRegressor(n_estimators=1000, learning_rate=0.05)\n",
        "model3.fit(X_train, y_train, early_stopping_rounds=5, eval_set=[(X_valid, y_valid)], verbose=False)\n",
        "y_pred3 = model3.predict(X_valid)"
      ],
      "execution_count": null,
      "outputs": []
    },
    {
      "cell_type": "code",
      "metadata": {
        "trusted": true,
        "id": "-p5rfAOE-XIw",
        "colab_type": "code",
        "colab": {},
        "outputId": "b9d4a994-0035-48d6-a59c-d2479bd80f13"
      },
      "source": [
        "print('Mean Absolute Error:', metrics.mean_absolute_error(y_valid, y_pred3))\n",
        "print('Mean Squared Error:', metrics.mean_squared_error(y_valid, y_pred3))\n",
        "print('Root Mean Squared Error:', np.sqrt(metrics.mean_squared_error(y_valid, y_pred3)))\n",
        "print(\"R2 score : %f\" % r2_score(y_valid,y_pred3))"
      ],
      "execution_count": null,
      "outputs": [
        {
          "output_type": "stream",
          "text": [
            "Mean Absolute Error: 0.10628496184757992\n",
            "Mean Squared Error: 0.02432325800994108\n",
            "Root Mean Squared Error: 0.15595915494109694\n",
            "R2 score : 0.954477\n"
          ],
          "name": "stdout"
        }
      ]
    },
    {
      "cell_type": "markdown",
      "metadata": {
        "id": "yHxHOhLd-XIz",
        "colab_type": "text"
      },
      "source": [
        "### 4. Ridge Regressor"
      ]
    },
    {
      "cell_type": "code",
      "metadata": {
        "trusted": true,
        "id": "QLZ_X1HE-XIz",
        "colab_type": "code",
        "colab": {}
      },
      "source": [
        "from sklearn.linear_model import Ridge\n",
        "\n",
        "model4 = Ridge(alpha=1.0)\n",
        "model4.fit(X_train, y_train)\n",
        "y_pred4 = model4.predict(X_valid)"
      ],
      "execution_count": null,
      "outputs": []
    },
    {
      "cell_type": "code",
      "metadata": {
        "trusted": true,
        "id": "_tdBieHu-XI1",
        "colab_type": "code",
        "colab": {},
        "outputId": "5e832eff-77f1-4208-a8c7-870996c293df"
      },
      "source": [
        "print('Mean Absolute Error:', metrics.mean_absolute_error(y_valid, y_pred4))\n",
        "print('Mean Squared Error:', metrics.mean_squared_error(y_valid, y_pred4))\n",
        "print('Root Mean Squared Error:', np.sqrt(metrics.mean_squared_error(y_valid, y_pred4)))\n",
        "print(\"R2 score : %f\" % r2_score(y_valid,y_pred4))"
      ],
      "execution_count": null,
      "outputs": [
        {
          "output_type": "stream",
          "text": [
            "Mean Absolute Error: 0.19646676412889155\n",
            "Mean Squared Error: 0.06632876256114106\n",
            "Root Mean Squared Error: 0.25754371000112014\n",
            "R2 score : 0.875859\n"
          ],
          "name": "stdout"
        }
      ]
    },
    {
      "cell_type": "markdown",
      "metadata": {
        "id": "QkE9as8t-XI3",
        "colab_type": "text"
      },
      "source": [
        "### 5. Lasso Regressor\n"
      ]
    },
    {
      "cell_type": "code",
      "metadata": {
        "trusted": true,
        "id": "wWKVtCh_-XI3",
        "colab_type": "code",
        "colab": {}
      },
      "source": [
        "from sklearn.linear_model import Lasso\n",
        "\n",
        "model5 = Lasso(alpha=1.0)\n",
        "model5.fit(X_train, y_train)\n",
        "y_pred5 = model5.predict(X_valid)"
      ],
      "execution_count": null,
      "outputs": []
    },
    {
      "cell_type": "code",
      "metadata": {
        "trusted": true,
        "id": "y6bZAo_F-XI5",
        "colab_type": "code",
        "colab": {},
        "outputId": "6f2a4e9d-9cd3-4d61-ceee-c21389c6dbca"
      },
      "source": [
        "print('Mean Absolute Error:', metrics.mean_absolute_error(y_valid, y_pred5))\n",
        "print('Mean Squared Error:', metrics.mean_squared_error(y_valid, y_pred5))\n",
        "print('Root Mean Squared Error:', np.sqrt(metrics.mean_squared_error(y_valid, y_pred5)))\n",
        "print(\"R2 score : %f\" % r2_score(y_valid,y_pred5))"
      ],
      "execution_count": null,
      "outputs": [
        {
          "output_type": "stream",
          "text": [
            "Mean Absolute Error: 0.3282817457388449\n",
            "Mean Squared Error: 0.18250369848335857\n",
            "Root Mean Squared Error: 0.4272045159912973\n",
            "R2 score : 0.658426\n"
          ],
          "name": "stdout"
        }
      ]
    },
    {
      "cell_type": "markdown",
      "metadata": {
        "id": "vK5_Wwa8-XI7",
        "colab_type": "text"
      },
      "source": [
        "### XGBoost Regressor has the best performance among the regressors chosen. So choosing XGBoost for prediciton on test values."
      ]
    },
    {
      "cell_type": "code",
      "metadata": {
        "trusted": true,
        "id": "8kb5av34-XI8",
        "colab_type": "code",
        "colab": {},
        "outputId": "3c8dc910-3d18-49b9-d264-e924d3e0477a"
      },
      "source": [
        "final_test_predictions = model3.predict(test)\n",
        "final_test_predictions = np.exp(final_test_predictions)-1 #converting target to original state\n",
        "type(final_test_predictions)"
      ],
      "execution_count": null,
      "outputs": [
        {
          "output_type": "execute_result",
          "data": {
            "text/plain": [
              "numpy.ndarray"
            ]
          },
          "metadata": {
            "tags": []
          },
          "execution_count": 214
        }
      ]
    },
    {
      "cell_type": "markdown",
      "metadata": {
        "id": "oxV5AFXj-XI_",
        "colab_type": "text"
      },
      "source": [
        "### Exporting the predictions to the test dataset"
      ]
    },
    {
      "cell_type": "code",
      "metadata": {
        "trusted": true,
        "id": "bs5ef4KK-XJD",
        "colab_type": "code",
        "colab": {}
      },
      "source": [
        "test['Price'] = pd.Series(final_test_predictions)"
      ],
      "execution_count": null,
      "outputs": []
    },
    {
      "cell_type": "code",
      "metadata": {
        "trusted": true,
        "id": "VGz0b18M-XJF",
        "colab_type": "code",
        "colab": {}
      },
      "source": [
        "test.to_csv('predictions.csv', index=False)"
      ],
      "execution_count": null,
      "outputs": []
    }
  ]
}